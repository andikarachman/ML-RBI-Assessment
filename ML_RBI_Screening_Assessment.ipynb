{
 "cells": [
  {
   "cell_type": "markdown",
   "metadata": {},
   "source": [
    "# Machine learning approach for risk-based inspection screening assessment\n",
    "This notebook describes the implementation of machine approach in the risk-based inspection (RBI) screening assessment, as described in the paper ['*Machine learning approach for risk-based inspection screening assessment*'](https://www.sciencedirect.com/science/article/pii/S0951832018301662). This notebook is focused on the model development aspects of the paper. Some aspects, such as statistic test and comparative analysis of machine learning algorithm and human appraisers are excluded. Please refer to the paper for more explanation.\n",
    "\n",
    "The abstract of the paper is shown below:\n",
    "> *Risk-based inspection (RBI) screening assessment is used to identify equipment that makes a significant contribution to the system's total risk of failure (RoF), so that the RBI detailed assessment can focus on analyzing higher-risk equipment. Due to its qualitative nature and high dependency on sound engineering judgment, screening assessment is vulnerable to human biases and errors, and thus subject to output variability and threatens the integrity of the assets. This paper attempts to tackle these challenges by utilizing a machine learning approach to conduct screening assessment. A case study using a dataset of RBI assessment for oil and gas production and processing units is provided, to illustrate the development of an intelligent system, based on a machine learning model for performing RBI screening assessment. The best performing model achieves accuracy and precision of 92.33% and 84.58%, respectively. A comparative analysis between the performance of the intelligent system and the conventional assessment is performed to examine the benefits of applying the machine learning approach in the RBI screening assessment. The result shows that the application of the machine learning approach potentially improves the quality of the conventional RBI screening assessment output by reducing output variability and increasing accuracy and precision.*"
   ]
  },
  {
   "cell_type": "markdown",
   "metadata": {},
   "source": [
    "# 1.0. Introduction\n",
    "The advancement of inspection and maintenance strategies from a conventional calendar-based approach to more sophisticated plans, such as condition-monitoring, reliability-centered maintenance, and risk-based approach, has been driven by the increase in the number, size, and complexity of physical assets. These advanced strategies help organizations to maximize the availability and reliability of the equipment, while still ensuring that operations are safe for the personnel, society, and environment. One of these strategies is risk-based inspection (RBI), which shifts the inspection planning paradigm from time-based inspection planning to more proactive inspection planning, by using a risk-based approach. RBI allows organizations to focus their inspection resources on equipment with a high risk of failure, thus preventing over-inspection of lower-risk equipment and under- inspection of higher-risk equipment."
   ]
  },
  {
   "cell_type": "markdown",
   "metadata": {},
   "source": [
    "![Title](Images/RBI_workflow.png)"
   ]
  },
  {
   "cell_type": "markdown",
   "metadata": {},
   "source": [
    "A generic RBI planning process is presented in the figure above. For detailed information and an explanation regarding RBI methodology, refer to the API RP 580 and DNV GL RP-G101. Normally, there are two types of risk assessment in an RBI planning process: (1) screening assessment and (2) detailed assessment. Screening and detailed assessment differ in terms of the level of detail in estimating the equipment’s risk level. Screening assessment typically utilizes qualitative analysis, which has a simpler procedure, fewer data requirements, and faster analysis time than the quantitative approach. Meanwhile, detailed assessment typically uses a quantitative approach.that requires more data and has a more rigorous computation and analysis procedure than qualitative analysis. Computer software is commonly used to generate outputs related to detailed assessment.\n",
    "\n",
    "In most processing systems, a significant portion of the system’s total risk is accumulated in a relatively small percentage of the items of equipment. Therefore, a screening assessment is conducted prior to the detailed assessment, to identify equipment that makes a significant contribution to the system’s overall risk. This allows the detailed assessment to focus on higher-risk items; thus, resources (e.g., time and labor) can be allocated more effectively and efficiently.\n",
    "\n",
    "However, there are two fundamental challenges in performing screening assessment. First, because of its qualitative nature, screening assessment depends more on the knowledge, expertise, and judgement of the engineering personnel, which makes it prone to human biases and errors. Moreover, qualitative assessment, based on subjective judgement and limited data and information, causes considerable variability in outputs. Additionally, human error is inevitable, due to the limitation of the human mind in processing and storing information. The variability of outputs and errors can undermine the integrity of the physical assets, by causing incongruity between the equipment risk level and the inspection quality and characteristics (e.g., inspection frequency, method, and level of detail). Second, considerable time and resources are needed to perform qualitative analysis. Organizations may need to gather personnel from different departments (e.g., process, safety, asset integrity, inspection, etc.) to decide whether certain equipment needs to be included in the detailed assessment. It is possible to avoid the screening assessment entirely and include all equipment in the RBI detailed assessment, but this option can be costly, considering the laborious and rigorous nature of the detailed assessment process.\n",
    "\n",
    "This study attempts to address the aforementioned challenges by developing an intelligent system, based on the machine learning approach. Machine learning enables transfer and reuse of past RBI detailed assessments, by mechanizing knowledge acquisition and converting existing data and information into actionable knowledge. In other words, the intelligent system enables past RBI detailed assessments’ data and information to be utilized as the references for conducting the new RBI screening assessment. This approach is expected to reduce the inherent output variability in qualitative analysis, as the machine learning algorithm is less susceptible to human errors and biases than human workers. Furthermore, the intelligent system can provide instantaneous RBI screening assessment results, which is the basis for reducing the time and effort involved in carrying out RBI analysis. The schematic of the suggested approach is displayed in the figure below."
   ]
  },
  {
   "cell_type": "markdown",
   "metadata": {},
   "source": [
    "![title](Images/ML_schematic_for_RBI.png)"
   ]
  },
  {
   "cell_type": "markdown",
   "metadata": {},
   "source": [
    "Before starting to develop machine learning models, we need to import the necessary packages."
   ]
  },
  {
   "cell_type": "code",
   "execution_count": 1,
   "metadata": {
    "collapsed": true
   },
   "outputs": [],
   "source": [
    "# Import data analysis packages\n",
    "import pandas as pd\n",
    "import numpy as np\n",
    "\n",
    "# Import feature/model selection and feature preprocessing packages\n",
    "from sklearn.preprocessing import minmax_scale, StandardScaler, LabelEncoder\n",
    "from sklearn.feature_selection import VarianceThreshold\n",
    "from sklearn.model_selection import train_test_split, GridSearchCV, StratifiedKFold, KFold\n",
    "\n",
    "# Import machine learning packages\n",
    "from sklearn.linear_model import LogisticRegression\n",
    "from sklearn.svm import SVC\n",
    "from sklearn.neighbors import KNeighborsClassifier\n",
    "from sklearn.ensemble import RandomForestClassifier, AdaBoostClassifier, GradientBoostingClassifier\n",
    "\n",
    "# Import metrics packages\n",
    "from sklearn.metrics import accuracy_score, recall_score, precision_score\n",
    "from sklearn.metrics import confusion_matrix, roc_curve, roc_auc_score, precision_recall_curve, average_precision_score \n",
    "\n",
    "# Importing data visualization packages\n",
    "import matplotlib.pyplot as plt\n",
    "import seaborn as sns\n",
    "%matplotlib inline\n",
    "\n",
    "#Miscellaneous\n",
    "import warnings\n",
    "warnings.filterwarnings('ignore')\n",
    "from datetime import datetime\n",
    "import xlrd"
   ]
  },
  {
   "cell_type": "markdown",
   "metadata": {},
   "source": [
    "The steps required to develop the machine learning model for RBI screening assessment are shown in the figure below. Each step is discussed individually in the following sections."
   ]
  },
  {
   "cell_type": "markdown",
   "metadata": {},
   "source": [
    "![title](Images/ML_workflow.png)"
   ]
  },
  {
   "cell_type": "markdown",
   "metadata": {},
   "source": [
    "# 2.0. Data import\n",
    "The dataset used in this paper was obtained from an RBI assessment project conducted for three onshore and four offshore production units. The scope of the project was to perform an RBI detailed assessment for these units, comprising over 200 pressure vessels and 3000 piping tags, based on API 581 methodology. "
   ]
  },
  {
   "cell_type": "code",
   "execution_count": 2,
   "metadata": {
    "collapsed": true
   },
   "outputs": [],
   "source": [
    "# Create a function to import excel files\n",
    "def import_excel(file, sheet_name):\n",
    "    file = xlrd.open_workbook(file)\n",
    "    sheet = file.sheet_by_name(sheet_name)\n",
    "    columns = sheet.row_values(0)\n",
    "    data = []\n",
    "    for i in range(1,sheet.nrows):\n",
    "        row = sheet.row_values(i)\n",
    "        data.append(row)\n",
    "    df = pd.DataFrame(data, columns=columns)\n",
    "    _, unique_columns = np.unique(df.columns, return_index=True)\n",
    "    df = df.iloc[:, unique_columns]\n",
    "    df.set_index(\"Component\", inplace=True)\n",
    "    return df\n",
    "\n",
    "# Import the data by using the function\n",
    "df_F1 = import_excel('Data/Complete Result - F1 - Rev1.xlsx', \"Complete Export\")\n",
    "df_F2 = import_excel('Data/Complete Result - F2 - Rev1.xlsx', \"Complete Export\")\n",
    "df_F3 = import_excel('Data/Complete Result - F3 - Rev2.xlsx', \"Complete Export\")\n",
    "df_F4 = import_excel('Data/Complete Result - F4 - Rev0.xlsx', \"Complete Export\")\n",
    "df_F5 = import_excel('Data/Complete Result - F5 - Rev1.xlsx', \"Complete Export\")\n",
    "df_F6 = import_excel('Data/Complete Result - F6 - Rev0.xlsx', \"Complete Export\")\n",
    "df_F7 = import_excel('Data/Complete Result - F7 - Rev1.xlsx', \"Complete Export\")\n",
    "\n",
    "# Combine all data into one dataframe\n",
    "df_origin = pd.concat([df_F1, df_F2, df_F3, df_F4, df_F5, df_F6, df_F7])"
   ]
  },
  {
   "cell_type": "markdown",
   "metadata": {},
   "source": [
    "# 3.0. Feature selection\n",
    "Feature selection is the process of choosing a subset of input features that contribute the most to the output feature for use in model construction. Feature selection is substantially important if we have datasets with high dimensionality (i.e., large number of features). High-dimensional datasets are not preferred because they have lengthy training time and have high risk of overfitting. \n",
    "\n",
    "In this study, a systematic feature selection is performed by the combination of domain knowledge and data-driven approach. The complete feature selection process used in this study is shown below. Each step is discussed individually in the following subsections."
   ]
  },
  {
   "cell_type": "markdown",
   "metadata": {},
   "source": [
    "![title](Images/feature_selection_workflow.png)"
   ]
  },
  {
   "cell_type": "markdown",
   "metadata": {},
   "source": [
    "## 3.1. Exclude features that have missing values\n",
    "Most machine learning algorithms cannot handle missing values. In this study, features that contain missing values are excluded, to prevent errors in the learning algorithms."
   ]
  },
  {
   "cell_type": "code",
   "execution_count": 3,
   "metadata": {
    "collapsed": true
   },
   "outputs": [],
   "source": [
    "# Replace empty values with NaN\n",
    "df_origin.replace(['',' '], [np.nan,np.nan], inplace=True)\n",
    "\n",
    "# Remove all instances that do not have risk result\n",
    "df = df_origin.loc[~df_origin['Risk Matrix'].isna()]\n",
    "df.drop(1.0, axis=0, inplace=True)\n",
    "\n",
    "# Make a list of features that have no missing values\n",
    "missing_data = df.isna().sum()/df.shape[0] * 100\n",
    "no_miss_features = list(missing_data[missing_data == 0].index)\n",
    "\n",
    "# Include only features that have no missing values\n",
    "df = df[no_miss_features]"
   ]
  },
  {
   "cell_type": "markdown",
   "metadata": {},
   "source": [
    "## 3.2. Exclude duplicate features \n",
    "A feature is considered a duplicate if it contains the same information as another feature. The following features are excluded:\n",
    "- *Process_Fluid* and *Fluid_Name* contain the same information. *Fluid_Name* is removed.\n",
    "- *Equipment Type* is the general version of *Component Type*. *Equipment Type* is eliminated. \n",
    "- *BM_CODE* and *Design_Code* contain the same information. \n",
    "- *BM_CODE* and *Design_Code* is the general version of *Component Type*. *BM_CODE* and *Design_Code* are eliminated.\n",
    "- *Component Type* and *Component_Type* contain the same information. *Component_Type* is removed."
   ]
  },
  {
   "cell_type": "code",
   "execution_count": 4,
   "metadata": {
    "collapsed": true
   },
   "outputs": [],
   "source": [
    "# Remove Fluid_Name, Equipment_Type, BM_CODE, Design_Code, and Component_Type\n",
    "df.drop(columns=['Fluid_Name', 'Equipment_Type', 'BM_CODE', 'Design_Code', 'Component_Type'], inplace=True)"
   ]
  },
  {
   "cell_type": "markdown",
   "metadata": {},
   "source": [
    "## 3.3. Remove features that cause information leakage\n",
    "Information leakage happens when the training dataset contains features that the model is trying to predict. To prevent information leakage, features that are generated as part of the RBI assessment outputs (i.e., output features) are not selected as the input features."
   ]
  },
  {
   "cell_type": "code",
   "execution_count": 5,
   "metadata": {
    "collapsed": true
   },
   "outputs": [],
   "source": [
    "#RBI output related features\n",
    "output_feats = [\"COF\", \"Equipment Linings\", \n",
    "                \"Financial_Cost\", \"Financial_Risk\", \"Maximum_Risk\", \n",
    "                \"POF\", \"Risk Category\", \"Risk_Brittle_Fracture_At_Plan_Date_No_Inspection\", \n",
    "                \"Risk_Brittle_Fracture_At_Plan_Date_With_Inspection\", \"Risk_Brittle_Fracture_At_RBI_Date\", \n",
    "                \"Risk_Brittle_Fracture_At_Tar_Years\", \"Risk_Category_At_RBI_Date\", \n",
    "                \"Risk_Cracking_At_Plan_Date_No_Inspection\", \"Risk_Cracking_At_Plan_Date_With_Inspection\", \n",
    "                \"Risk_Cracking_At_RBI_Date\", \"Risk_Cracking_At_Tar_Years\", \n",
    "                \"Risk_External_Damage_At_Plan_Date_No_Inspection\", \"Risk_External_Damage_At_Plan_Date_With_Inspection\", \n",
    "                \"Risk_External_Damage_At_RBI_Date\", \"Risk_External_Damage_At_Tar_Years\", \n",
    "                \"Risk_Fatigue_At_Plan_Date_No_Inspection\", \"Risk_Fatigue_At_Plan_Date_With_Inspection\", \n",
    "                \"Risk_Fatigue_At_RBI_Date\", \"Risk_Fatigue_At_Tar_Years\", \"Risk_HTHA_At_Plan_Date_No_Inspection\", \n",
    "                \"Risk_HTHA_At_Plan_Date_With_Inspection\", \"Risk_HTHA_At_RBI_Date\", \"Risk_HTHA_At_Tar_Years\", \n",
    "                \"Risk_Thinning_At_Plan_Date_No_Inspection\", \"Risk_Thinning_At_Plan_Date_With_Inspection\", \n",
    "                \"Risk_Thinning_At_RBI_Date\", \"Risk_Thinning_At_Tar_Years\", \"Target_Date\", \n",
    "                \"Tot_Risk_Grad_Plan\", \"Tot_Risk_Grad_Plan_NI\", \"Tot_Risk_Grad_RBI_Date\", \"Tot_Risk_Grad_Tar_Years_NI\", \n",
    "                \"Total_DF\", \"Total_Risk_At_Plan_Date_No_Inspection\", \"Total_Risk_At_Plan_Date_With_Inspection\", \n",
    "                \"Total_Risk_At_RBI_Date\", \"Total_Risk_At_Tar_Years\"]\n",
    "\n",
    "#Remove features that cause information leakage\n",
    "df.drop(columns=output_feats, inplace=True)"
   ]
  },
  {
   "cell_type": "markdown",
   "metadata": {},
   "source": [
    "## 3.4. Remove features with intensive data gathering and assessment\n",
    "Considering the simplistic nature of RBI screening assessment, features that require intensive data gathering and assessment are removed. For instance, some features contained in the dataset (i.e., damage mechanism- and inspection-related features) are generated as the results of RBI detailed assessment, making them unsuitable as input features, due to heavy pre-assessment and pre-computation."
   ]
  },
  {
   "cell_type": "code",
   "execution_count": 6,
   "metadata": {
    "collapsed": true
   },
   "outputs": [],
   "source": [
    "#Damage Mechanism Characteristics\n",
    "DM_feats = ['885 F Embrittlement', 'Amine Cracking', 'BM_Corrosion_Rate', 'Bundle Damage',\n",
    "            'CUI Austenitic Stainless Steels', 'CUI Carbon & Low Alloy Steels', 'Carbonate Cracking',\n",
    "            'Caustic Cracking', 'Chloride Cracking', 'Damage_ID', 'Damage_Type',\n",
    "            'External Corrosion Carbon & Low Alloy Steels', 'External SCC Of Austenitic Stainless Steels',\n",
    "            'HIC SOHIC H2S', 'HIC SOHIC HF', 'HSC HF', 'HTHA Damage', 'Low Temperature Brittle Fracture',\n",
    "            'Mechanical Fatigue', 'Other Cracking', 'Polythionic Acid Cracking', 'SSC H2S', \n",
    "            'Sigma Phase Embrittlement', 'Temper Embrittlement', 'Thinning Damage', 'Thinning_Type',\n",
    "            'Damage_Calculation_Flag', 'Hydrogen_Partial_Pres', 'Geometry_Type', 'Percent_Toxic']\n",
    "\n",
    "#Inspection Characteristics and History\n",
    "insp_feats = [\"Date Thinning Inspection\", \"Ext Damage Inspection Type\", \"HTHA_Future_Insp_Type\", \n",
    "              \"Insp_Date_Plan_HTHA\", \"Inspection_Method\", \"Inspection_Option\", \n",
    "              \"Inspection_Plan_Basis\", \"Thinning Inspection Type\", \"Cracking Inspection Type\", \n",
    "              \"Date Cracking Inspection\", \"Date Ext Damage Inspection\"]\n",
    "\n",
    "#Inventory Group\n",
    "inv_feats = ['Inventory_Group', 'InvGrp_Liquid_Mass']\n",
    "\n",
    "#Length\n",
    "dim_feats = ['Length']\n",
    "\n",
    "#Mitigation System\n",
    "mitigation_system = ['Mitigation_System', 'Detection_System']\n",
    "\n",
    "# All features with intensive data gathering and assessment\n",
    "int_feats = DM_feats + insp_feats + inv_feats + dim_feats + mitigation_system\n",
    "\n",
    "#Remove features that cause information leakage\n",
    "df.drop(columns=int_feats, inplace=True)"
   ]
  },
  {
   "cell_type": "markdown",
   "metadata": {},
   "source": [
    "In addition, features related to software general setting and asset identifier are removed because they do not contribute in risk predictions. "
   ]
  },
  {
   "cell_type": "code",
   "execution_count": 7,
   "metadata": {
    "collapsed": true
   },
   "outputs": [],
   "source": [
    "#RBI general setting\n",
    "RBI_gen_feats = [\"Area_Risk_Target\", \"Financial_Risk_Target\", \"Metric_Flag\", \n",
    "                 \"Plan_Date\", \"RBI_Date\", \"Toxic_Model\", \"DF_Target\", 'External_Environment']\n",
    "\n",
    "#Asset Identifier\n",
    "Asset_ID = [\"Component_Description\", \"Corporation\", \"Equipment\", \n",
    "            \"Count as Group\", \"Count as Whole Asset\"]\n",
    "\n",
    "#Remove general setting and identifier features\n",
    "df.drop(columns=RBI_gen_feats + Asset_ID, inplace=True)"
   ]
  },
  {
   "cell_type": "markdown",
   "metadata": {},
   "source": [
    "## 3.5. Remove zero-variance and near-zero variance features \n",
    "Zero-variance/near-zero- variance features are variables that are nearly identical and constant among instances in the dataset, making them uninformative, with little effect on the computations. In this study, a zero-variance/near- zero-variance feature is defined as a feature with a frequency ratio (i.e., the frequency of the most prevalent value to the frequency of the second most prevalent value) greater than 10. "
   ]
  },
  {
   "cell_type": "code",
   "execution_count": 8,
   "metadata": {
    "collapsed": true
   },
   "outputs": [],
   "source": [
    "# Remove zero-variance and near-zero variance features\n",
    "temp_list = list()\n",
    "for col in df.columns:\n",
    "    temp = [col, df[col].value_counts().values[0]/df[col].value_counts().values[1]]\n",
    "    temp_list.append(temp)\n",
    "freq_ratio = pd.DataFrame(temp_list)\n",
    "freq_ratio.columns = ['Features', 'Freq Ratio']\n",
    "freq_ratio.sort_values(['Freq Ratio'], inplace=True)\n",
    "non_zero_var_feats = freq_ratio.loc[freq_ratio['Freq Ratio'] < 10, 'Features']\n",
    "non_zero_var_feats = list(non_zero_var_feats)\n",
    "df = df[non_zero_var_feats]"
   ]
  },
  {
   "cell_type": "markdown",
   "metadata": {},
   "source": [
    "## 3.6. Remove multicollinear features\n",
    "Multicollinearity among features is eliminated, due to its detrimental effect on the model generalizability. To identify multicollinearity, a correlation matrix is constructed to compute the Pearson correlation coefficient between two features. Pairwise features that have a correlation coefficient larger than 0.5 are identified. Then, the feature within the pair that has a higher average correlation coefficient with the other features is removed."
   ]
  },
  {
   "cell_type": "code",
   "execution_count": 9,
   "metadata": {},
   "outputs": [
    {
     "data": {
      "text/plain": [
       "<matplotlib.axes._subplots.AxesSubplot at 0x1172c7898>"
      ]
     },
     "execution_count": 9,
     "metadata": {},
     "output_type": "execute_result"
    },
    {
     "data": {
      "image/png": "[encoded data removed]",
      "text/plain": [
       "<Figure size 432x288 with 2 Axes>"
      ]
     },
     "metadata": {},
     "output_type": "display_data"
    }
   ],
   "source": [
    "# Create a heatmap for the correlation matrix\n",
    "sns.heatmap((df.loc[:,['Operating_Pressure', 'Design_Temperature', 'Design_Pressure', 'Operating_Temperature', \n",
    "          'Diameter_InnerDiameter', 'Corrosion_Allow']].astype('float')).corr(), annot=True)"
   ]
  },
  {
   "cell_type": "code",
   "execution_count": 10,
   "metadata": {
    "collapsed": true
   },
   "outputs": [],
   "source": [
    "# Remove Design_Pressure and Design_Temperature \n",
    "df.drop(columns=['Design_Pressure', 'Design_Temperature'], inplace=True)"
   ]
  },
  {
   "cell_type": "markdown",
   "metadata": {},
   "source": [
    "# 4.0. Data Pre-Processing\n",
    "Data pre-processing is performed to transform raw data into a readable and understandable format, and to cleanse cluttered and noisy data. Raw data are generally incomplete, inconsistent, and contain many errors; data pre-processing ensures that the data are prepared for further processing."
   ]
  },
  {
   "cell_type": "markdown",
   "metadata": {},
   "source": [
    "## 4.1. Generalization of features\n",
    "A data transformation process that is performed on the dataset is generalization, which reduces the number of distinct values in a certain feature by replacing low-level feature values with higher-level values. Generalization is performed to avoid undergeneralization, which causes a certain feature to be uninformative and unhelpful in refining the predictive power of the model. The decision regarding how high a feature should be generalized is a subjective matter. Attribute generalization threshold control, which limits the number of distinct values in a feature, is commonly applied to prevent under-generalization. The threshold for the number of distinct values in a feature normally ranges from 2 to 8, and the determination of the threshold value should be based on expert judgment. In this study, the threshold value, which is set to 7, is applied to categorical features.\n",
    "\n",
    "Four features are generalized: fluid containment, material of con- struction, insulation type, and risk category. The detail is shown in the table below."
   ]
  },
  {
   "cell_type": "markdown",
   "metadata": {},
   "source": [
    "![title](Images/generalized_features.png)"
   ]
  },
  {
   "cell_type": "markdown",
   "metadata": {},
   "source": [
    "### 4.1.1. Material Type\n",
    "The material of construction feature is generalized and transformed into four distinct values (i.e., carbon steel, SS316L, 22Cr, and aluminum) that represent higher level of abstraction in material type concept hierarchy. These four values represent material types that have different levels of resistance to various degradation mechanisms and, thus, have a distinctive impact on the probability of failure and risk of failure levels. "
   ]
  },
  {
   "cell_type": "code",
   "execution_count": 11,
   "metadata": {
    "collapsed": true
   },
   "outputs": [],
   "source": [
    "# Create a function to generalized material types\n",
    "def replace_material(value, init_string, repl_string):\n",
    "    if init_string in value:\n",
    "        value = repl_string\n",
    "    return value\n",
    "\n",
    "# Replace the material value with the function\n",
    "df[\"BM_MATERIAL\"] = df[\"BM_MATERIAL\"].apply(lambda x: x.split())\n",
    "df[\"BM_MATERIAL\"] = df[\"BM_MATERIAL\"].apply(lambda x: replace_material(x, \"A106\", \"Carbon_Steel\"))\n",
    "df[\"BM_MATERIAL\"] = df[\"BM_MATERIAL\"].apply(lambda x: replace_material(x, \"SA106\", \"Carbon_Steel\"))\n",
    "df[\"BM_MATERIAL\"] = df[\"BM_MATERIAL\"].apply(lambda x: replace_material(x, \"A516\", \"Carbon_Steel\"))\n",
    "df[\"BM_MATERIAL\"] = df[\"BM_MATERIAL\"].apply(lambda x: replace_material(x, \"SA516\", \"Carbon_Steel\"))\n",
    "df[\"BM_MATERIAL\"] = df[\"BM_MATERIAL\"].apply(lambda x: replace_material(x, \"316L\", \"SS316L\"))\n",
    "df[\"BM_MATERIAL\"] = df[\"BM_MATERIAL\"].apply(lambda x: replace_material(x, \"TP316L\", \"SS316L\"))\n",
    "df[\"BM_MATERIAL\"] = df[\"BM_MATERIAL\"].apply(lambda x: replace_material(x, \"A790\", \"22Cr\"))\n",
    "df[\"BM_MATERIAL\"] = df[\"BM_MATERIAL\"].apply(lambda x: replace_material(x, \"A333\", \"Carbon_Steel\"))\n",
    "df[\"BM_MATERIAL\"] = df[\"BM_MATERIAL\"].apply(lambda x: replace_material(x, \"SA333\", \"Carbon_Steel\"))\n",
    "df[\"BM_MATERIAL\"] = df[\"BM_MATERIAL\"].apply(lambda x: replace_material(x, \"SA240\", \"22Cr\"))\n",
    "df[\"BM_MATERIAL\"] = df[\"BM_MATERIAL\"].apply(lambda x: replace_material(x, \"SA789\", \"22Cr\"))\n",
    "df[\"BM_MATERIAL\"] = df[\"BM_MATERIAL\"].apply(lambda x: replace_material(x, \"API5LDS\", \"Carbon_Steel\"))\n",
    "df[\"BM_MATERIAL\"] = df[\"BM_MATERIAL\"].apply(lambda x: replace_material(x, \"SA179\", \"Carbon_Steel\"))\n",
    "df[\"BM_MATERIAL\"] = df[\"BM_MATERIAL\"].apply(lambda x: replace_material(x, \"SA53\", \"Carbon_Steel\"))\n",
    "df[\"BM_MATERIAL\"] = df[\"BM_MATERIAL\"].apply(lambda x: replace_material(x, \"SA283\", \"Carbon_Steel\"))\n",
    "df[\"BM_MATERIAL\"] = df[\"BM_MATERIAL\"].apply(lambda x: replace_material(x, \"A283\", \"Carbon_Steel\"))\n",
    "df[\"BM_MATERIAL\"] = df[\"BM_MATERIAL\"].apply(lambda x: replace_material(x, \"SA36\", \"Carbon_Steel\"))\n",
    "df[\"BM_MATERIAL\"] = df[\"BM_MATERIAL\"].apply(lambda x: replace_material(x, \"A36M\", \"Carbon_Steel\"))\n",
    "df[\"BM_MATERIAL\"] = df[\"BM_MATERIAL\"].apply(lambda x: replace_material(x, \"SB209\", \"Aluminum\"))\n",
    "df[\"BM_MATERIAL\"] = df[\"BM_MATERIAL\"].apply(lambda x: replace_material(x, \"SA182\", \"SS316L\"))"
   ]
  },
  {
   "cell_type": "markdown",
   "metadata": {},
   "source": [
    "### 4.1.2. Risk category \n",
    "For the risk category feature, generalization is conducted in accordance with the objective of RBI screening assessment. The risk category from the original dataset contains the probability of failure and consequence of failure classification of each item of equipment. The goal of the model is to classify whether particular equipment is in the 1A risk category (i.e., low risk) or not (i.e., medium/high risk). Thus, the risk category feature value is transformed to low class (i.e., 1A risk level) or medium/high class (i.e., higher than 1A risk level). In other words, the RBI screening assessment is essentially a binary classification task. From the dataset, 375 of the instances (23% of the total instances) are in the low-risk category, while the remaining 1206 instances (77% of the total instances) are in the medium/high class."
   ]
  },
  {
   "cell_type": "code",
   "execution_count": 12,
   "metadata": {
    "collapsed": true
   },
   "outputs": [],
   "source": [
    "# Generalize risk category\n",
    "matrix_dict = {'1A':1, '1B':0, '1C':0, '2B':0, \n",
    "               '1D':0, '1E':0, '2E':0, '2C':0, \n",
    "               '2A':0, '2D':0, '3E':0, '3B':0, \n",
    "               '3A':0,'3C':0, '4A':0, '4B':0, \n",
    "               '4C':0, '4D':0}\n",
    "\n",
    "df[\"Risk Matrix\"].replace(matrix_dict, inplace=True)"
   ]
  },
  {
   "cell_type": "markdown",
   "metadata": {},
   "source": [
    "### 4.1.3. Process Fluid \n",
    "The fluid containment feature is generalized and transformed into three values (i.e., non-hydrocarbon, light hydrocarbon, and heavy hydrocarbon) that represent three types of fluid that give different magnitudes of consequence of failure and risk of failure."
   ]
  },
  {
   "cell_type": "code",
   "execution_count": 13,
   "metadata": {
    "collapsed": true
   },
   "outputs": [],
   "source": [
    "# Generalize process fluid\n",
    "\n",
    "df[\"Fluid_Type\"] = np.NaN\n",
    "#------------------------------------------------------------------------------------------------------------------\n",
    "fluid_dict_CPP = {'Stream 10':0, 'Stream 14':0, 'Stream 15':0, 'Stream 17':0, 'Stream 20':0,\n",
    "                  'Stream 21':0, 'Stream 22':0, 'Stream 26':2, 'Stream 27':2, 'Stream 29':2,\n",
    "                  'Stream 3':2, 'Stream 31':2, 'Stream 32':2, 'Stream 36':2, 'Stream 39':2,\n",
    "                  'Stream 4':2, 'Stream 40':2, 'Stream 46':1, 'Stream 47':0, 'Stream 5':2,\n",
    "                  'Stream 50':0, 'Stream 54':2, 'Stream 55':2, 'Stream 57':2, 'Stream 6':2,\n",
    "                  'Stream 60':2, 'Stream 62':2, 'Stream 65':2, 'Stream 67':2, 'Stream 7':2,\n",
    "                  'Stream 70':2, 'Stream 72':2, 'Stream 75':2, 'Stream 78':2, 'Stream 79':2,\n",
    "                  'Stream 8':2, 'Stream 81':2, 'Stream 83':2, 'Stream 84':2, 'Stream 86':2,\n",
    "                  'Stream 87':2, 'Stream 88':2, 'Stream 89':2, 'Stream 9':1, 'Water':0}\n",
    "\n",
    "df.loc[df[\"Plant\"] == \"CPP\",\"Fluid_Type\"] = df.loc[df[\"Plant\"] == \"CPP\", \n",
    "                                                   \"Process_Fluid\"].replace(fluid_dict_CPP).values\n",
    "\n",
    "#------------------------------------------------------------------------------------------------------------------\n",
    "fluid_dict_AUP = {'Air':0, 'Diesel':1, 'Fresh Water':0, 'Sea Water':0, 'AFF':0, 'Fuel Gas':1,\n",
    "                  'Lube Oil':0, 'Nitrogen':0}\n",
    "\n",
    "df.loc[df[\"Plant\"] == \"AUP\", \"Fluid_Type\"] = df.loc[df[\"Plant\"] == \"AUP\", \n",
    "                                                    \"Process_Fluid\"].replace(fluid_dict_AUP).values\n",
    "#------------------------------------------------------------------------------------------------------------------\n",
    "fluid_dict_GPF = {'68C1, 5C2, 3C3, 10C4, 10H2O':2, '46H2O, 9C1, 37C4':2,\n",
    "                  '83C1, 5C2, 3C3, 3C4, 4CO2':2, '5C1, 3C2, 8C3, 82C4, 1CO2':1,\n",
    "                  'Mothball Fluid':0, 'Produced Water Combined Inlet':0,\n",
    "                  '17C1, 4C2, 8C3, 69C4, 2CO2':2, '84C1, 5C2, 3C3, 2C4, 4CO2':2,\n",
    "                  'Amine Contactor Liquid':2, 'Heating Medium':0,\n",
    "                  'Condensate from Stabilizer':1, 'Air':0, 'Water':0, 'Fuel Gas Heater':2,\n",
    "                  'Oxidation Air':0, 'Ucarsol HS 10':0, 'Ucarsol HS 10 with less CO2':0,\n",
    "                  'Lean Ucarsol 10.21':0, 'Amine Regenerator':0,\n",
    "                  'Ucarsol 6ppm Reflux Liquid':0, 'Sea water':0, 'Amine Inlet KOD':0,\n",
    "                  'Amine Contactor Vapor':2, 'Amine Overhead Gas':0, 'Amine Flash Gas':2,\n",
    "                  'Acid Gas':0, 'Fuel Gas':2, 'SH Gas':0, 'Lean TEG':0, 'Hot Rich TEG':0,\n",
    "                  'TEG Stripping Gas':2, 'TEG Reflux Condenser':0, 'EG':0, 'TEG Make Up':0,\n",
    "                  'TEG Vapor Outlet':2, 'TEG Flash Gas':2, 'Closed Drain Liquid':0,\n",
    "                  'Sales Gas':2, 'Liquid Dew Point':1, 'Scrubber 2nd Liquid Outlet':1,\n",
    "                  'Scrubber Water Outlet':0, 'Scrubber Liquid Outlet':0,\n",
    "                  'Produced Water Acid Gas':2, 'HP Flare Drain':0,\n",
    "                  'Drain Vessel Inlet from 150':1, 'HP Flare KOD Vap':2, 'LP Flare Inlet':0,\n",
    "                  'Diesel':1, 'C6-C8':2, 'AFFF Fluid':0, 'Effluent Oily Water':0,\n",
    "                  'Effluent Oil':1, 'Produced Water Fluid':0, 'TEG Acid Flare':0,\n",
    "                  'Acid Flare Header':0, 'Acid Flare 3-4':1, 'Drain From Produce Water':1,\n",
    "                  'Nitrogen':0}\n",
    "\n",
    "df.loc[df[\"Plant\"] == \"GPF\", \"Fluid_Type\"] = df.loc[df[\"Plant\"] == \"GPF\", \n",
    "                                                    \"Process_Fluid\"].replace(fluid_dict_GPF).values\n",
    "#------------------------------------------------------------------------------------------------------------------\n",
    "fluid_dict_LPGF = {'Heating Medium System':0, 'Water Outlet':0, 'Oily Water':0,\n",
    "                   '332-V-03 Process Gas':2, 'Fuel Gas':2, 'Diesel':1, 'C5':1, 'Process Gas':2,\n",
    "                   'Regen Gas Cooler Outlet':2, 'Mol Sieve inlet':2, 'Regen Gas Outlet':2,\n",
    "                   'Regen Scrubber Bottom':0, 'Recompressor Gas':2, 'Lube Oil':0,\n",
    "                   'Closed Drain Fluid':2, 'Depropanizer Condenser Gas Outlet':2, 'Air':0,\n",
    "                   'Methanol':0, 'Water':0, 'Effluent':1, 'Cold Separator Gas':2,\n",
    "                   'Cold Separator Liquid':1, 'Deethanizer Exchanger Hot Side':2,\n",
    "                   'Deethanizer Top Outlet':2, 'Deethanizer Side Product':2,\n",
    "                   'Propane Liq from Deethanizer':2, 'Depropanizer Side Outlet':2,\n",
    "                   'Debutanizer Top Product':2, 'Debutanizer Reboiler Vap Outlet':1,\n",
    "                   'Debuthanizer Side Outlet':1, 'Deethanizer Accumulator Liquid Outlet':2,\n",
    "                   'Deethanizer Accumulator Gas Outlet':2, 'Deethanizer Bottom Outlet':2,\n",
    "                   'Depropanizer Reboiler Vap Outlet':2, 'Depropanizer Bottom Product':2,\n",
    "                   'Debuthanizer Bottom Product':1, 'Propane Treater Mixed HC':2,\n",
    "                   'Process Liquid':1, 'HP Flash Separator Gas':2, 'Fresh Water':0,\n",
    "                   'Nitrogen':0, '1st Stage Flash Gas Compressor Fluid':2, 'Flashed Gas':0}\n",
    "\n",
    "df.loc[df[\"Plant\"] == \"LPGF\", \"Fluid_Type\"] = df.loc[df[\"Plant\"] == \"LPGF\", \n",
    "                                                     \"Process_Fluid\"].replace(fluid_dict_LPGF).values\n",
    "#------------------------------------------------------------------------------------------------------------------\n",
    "fluid_dict_OTF = {'Heating Medium System':0, 'HP Flash Heater':2, 'Process Liquid':1,\n",
    "                  'HP Flash Separator Inlet':2, 'HP Flash Separator Gas':2, 'Water CO2':0,\n",
    "                  'Water Outlet':0, 'LP Electrostatic Gas':2,\n",
    "                  '1st Stage Flash Gas Compressor Fluid':2, 'LP Electrostatic Inlet':2,\n",
    "                  'Atmospheric Flash Separator Gas':2, 'Flash Separator Liquid':1,\n",
    "                  'Oily Water':0, 'C17-C25':1}\n",
    "\n",
    "df.loc[df[\"Plant\"] == \"OTF\", \"Fluid_Type\"] = df.loc[df[\"Plant\"] == \"OTF\", \n",
    "                                                    \"Process_Fluid\"].replace(fluid_dict_OTF).values\n",
    "#------------------------------------------------------------------------------------------------------------------\n",
    "fluid_dict_WHPA = {'Stream 10':2, 'Stream 14':2, 'Stream 9':2, 'Stream 6':2, 'Stream 3':2,\n",
    "                   'Diesel':1, 'Air':0, 'Nitrogen':0, 'Water':0, 'Stream 2':2, 'Stream 5':2}\n",
    "\n",
    "df.loc[df[\"Plant\"] == \"WHP-A\", \"Fluid_Type\"] = df.loc[df[\"Plant\"] == \"WHP-A\", \n",
    "                                                      \"Process_Fluid\"].replace(fluid_dict_WHPA).values\n",
    "#------------------------------------------------------------------------------------------------------------------\n",
    "fluid_dict_WHPB = {'Oil Well':2, 'Gas Well':2, 'Fluid from CPP':2, 'WHP-A Fluid':0,\n",
    "                   'Utility Air':0, 'Water':0, 'Nitrogen':0, 'Diesel':1, 'Production Line':2,\n",
    "                   'Firewater':0, 'Gas Lift':2, 'WHP-A Pig Receiver Inlet Fluid':1}\n",
    "\n",
    "df.loc[df[\"Plant\"] == \"WHP-B\", \"Fluid_Type\"] = df.loc[df[\"Plant\"] == \"WHP-B\", \n",
    "                                                      \"Process_Fluid\"].replace(fluid_dict_WHPB).values\n",
    "#------------------------------------------------------------------------------------------------------------------\n",
    "#Converting fluid type value to be string\n",
    "def convert_fluid_type(x):\n",
    "    if x == 0: x = \"NonHC\"\n",
    "    elif x == 1: x = \"HeavyHC\"\n",
    "    else: x = \"LightHC\"\n",
    "    return x\n",
    "df[\"Fluid_Type\"] = df[\"Fluid_Type\"].apply(lambda x: convert_fluid_type(x))"
   ]
  },
  {
   "cell_type": "markdown",
   "metadata": {},
   "source": [
    "### 4.1.4. Insulation type\n",
    "The insulation type feature is generalized into none and insulated, which indicates whether equipment is insulated or not. The presence of insulation influences the type of damage mechanism that occurs on the equipment and thus impacts the probability of failure and risk of failure levels."
   ]
  },
  {
   "cell_type": "code",
   "execution_count": 14,
   "metadata": {
    "collapsed": true
   },
   "outputs": [],
   "source": [
    "# Create a function for generalization of insulation type\n",
    "def convert_insulation(x):\n",
    "    if x == \"None\": x = 0\n",
    "    else: x = 1\n",
    "    return x\n",
    "\n",
    "# Perform generalization by using the function\n",
    "df[\"Insulation\"] = df[\"Insulation\"].apply(lambda x: convert_insulation(x))"
   ]
  },
  {
   "cell_type": "markdown",
   "metadata": {},
   "source": [
    "## 4.2. Data format correction\n",
    "Minor data format correction is performed to transform numerical features’ values (e.g., operating pressure and operating temperature) from string-type to float-type, to enable the manipulation of numerical data."
   ]
  },
  {
   "cell_type": "code",
   "execution_count": 15,
   "metadata": {
    "collapsed": true
   },
   "outputs": [],
   "source": [
    "# Perform data format correction for five features\n",
    "df[\"Operating_Pressure\"] = df[\"Operating_Pressure\"].astype(\"float\")\n",
    "df[\"Operating_Temperature\"] = df[\"Operating_Temperature\"].astype(\"float\")\n",
    "df[\"Corrosion_Allow\"] = df[\"Corrosion_Allow\"].astype(\"float\")\n",
    "df[\"Diameter_InnerDiameter\"] = df[\"Diameter_InnerDiameter\"].astype(\"float\")"
   ]
  },
  {
   "cell_type": "markdown",
   "metadata": {},
   "source": [
    "## 4.3. Feature construction\n",
    "The other data transformation that is performed on the dataset is feature construction, which is the addition of new features, constructed using the dataset original set of features. In this study, the equipment age feature is added and computed by subtracting the RBI assessment date with the commissioning date feature. The commissioning date feature itself is not included as one of the model input features, replaced by the equipment age feature. It is assumed that the assessment date is 05-05-2012. "
   ]
  },
  {
   "cell_type": "code",
   "execution_count": 16,
   "metadata": {
    "collapsed": true
   },
   "outputs": [],
   "source": [
    "# Perform feature construction\n",
    "def convert_date(x):\n",
    "    x = datetime.strptime(x, \"%Y-%m-%d\")\n",
    "    return x\n",
    "\n",
    "df[\"Assessment_Date\"] = pd.datetime(2012, 5, 5)\n",
    "df[\"Component_Start_Date\"] = df[\"Component_Start_Date\"].apply(lambda x: convert_date(str(x)))\n",
    "df.loc[df[\"Component_Start_Date\"] == '2013-03-01T00:00:00.000000000', \"Component_Start_Date\"] = pd.datetime(2011,3,11)\n",
    "df[\"Component_Age\"] = (df[\"Assessment_Date\"] - df[\"Component_Start_Date\"]).astype(\"int\") * 3.17098e-17\n",
    "\n",
    "# Drop unnecessary features\n",
    "dropped_features = [\"Plant\", \"Unit\", \"Process_Fluid\", \"Component_Start_Date\", \"Assessment_Date\"]\n",
    "df_final = df.drop(dropped_features, axis = 1)"
   ]
  },
  {
   "cell_type": "markdown",
   "metadata": {},
   "source": [
    "## 4.4. Feature encoding\n",
    "All non-ordinal categorical features (i.e., material of construction, equipment type, post-weld heat treatment, insulation type, and fluid containment) with N values are converted into N-1 dummy variables, in order to enable machine learning algorithms to process these features"
   ]
  },
  {
   "cell_type": "code",
   "execution_count": 17,
   "metadata": {
    "collapsed": true
   },
   "outputs": [],
   "source": [
    "# Generate dummy variables for non-ordinal categorical features\n",
    "df_encoded = pd.get_dummies(df_final)"
   ]
  },
  {
   "cell_type": "markdown",
   "metadata": {},
   "source": [
    "# 5.0. Algorithm selection\n",
    "RBI screening assessment is essentially a supervised classification problem with binary output feature values (i.e., low risk and high/medium risk). There is a wide range of machine learning techniques that can solve binary classification problems. A set of binary classification techniques is selected and each of them is compared to determine the algorithm that yields the best results. Six established classifiers are selected: logistic regression (LR), support vector machines (SVM), k-nearest neighbors (k-NN), gradient boosting decision trees (GBDT), AdaBoost (AB), and random forests (RF). LR, SVM, and k-NN are single classifiers, while GBDT, AB, and RF are ensemble classifiers. "
   ]
  },
  {
   "cell_type": "markdown",
   "metadata": {},
   "source": [
    "## 5.1. Separate input features and output feature"
   ]
  },
  {
   "cell_type": "code",
   "execution_count": 18,
   "metadata": {
    "collapsed": true
   },
   "outputs": [],
   "source": [
    "# Separate input features and output feature\n",
    "X = df_encoded.drop(\"Risk Matrix\", axis=1)\n",
    "y = df_encoded[\"Risk Matrix\"]\n",
    "\n",
    "# Reset index\n",
    "X.reset_index(drop=True, inplace=True)\n",
    "y.reset_index(drop=True, inplace=True)"
   ]
  },
  {
   "cell_type": "markdown",
   "metadata": {},
   "source": [
    "## 5.2. Nested cross-validation\n",
    "Stratified nested cross-validation (CV) is a technique used for model selection and evaluation. Model selection is fundamentally a means to optimize the classifier by tuning its corresponding hyperparameters. Meanwhile, model evaluation is comprised of a procedure to approximate the performance of the classifier, based on the selected hyperparameters. Nested CV is able to produce an unbiased estimate of the classifier's error.\n",
    "\n",
    "The workflow of nested CV is given in the figure below. "
   ]
  },
  {
   "cell_type": "markdown",
   "metadata": {},
   "source": [
    "![title](Images/nested_CV_workflow.png)"
   ]
  },
  {
   "cell_type": "code",
   "execution_count": 19,
   "metadata": {
    "collapsed": true
   },
   "outputs": [],
   "source": [
    "# List of the selected algorithms\n",
    "alg_list = [LogisticRegression(), SVC(probability=True), RandomForestClassifier(random_state=42),\n",
    "            GradientBoostingClassifier(random_state=42), KNeighborsClassifier(), \n",
    "            AdaBoostClassifier(random_state=42)]\n",
    "\n",
    "# List of the hyperparameters to be selected\n",
    "alg_param_grid = [{'penalty':['l2']},\n",
    "                  {\"C\":[0.01,0.1,1,10,100], \"kernel\":[\"rbf\", \"linear\", \"poly\", \"sigmoid\"]},\n",
    "                  {\"n_estimators\":[10,50,100,250,500], \"max_features\":[2,4,6,8,10,12,14,16,18,20]},\n",
    "                  {\"learning_rate\":[0.1,0.2,0.3,0.4,0.5,0.6,0.7,0.8,0.9,1],\"max_depth\":[1,2,3,4,5]},\n",
    "                  {\"n_neighbors\":[1,2,3,4,5,6,7,8,9,10]},\n",
    "                  {\"learning_rate\":[0.1,0.2,0.3,0.4,0.5,0.6,0.7,0.8,0.9,1.0],\"n_estimators\":[10,50,100,250,500,1000]}]"
   ]
  },
  {
   "cell_type": "code",
   "execution_count": 20,
   "metadata": {
    "collapsed": true
   },
   "outputs": [],
   "source": [
    "# Create a function to perform nested CV\n",
    "def nested_cv(no_iter, alg, param_grid):\n",
    "    alg = alg\n",
    "    param_grid = param_grid\n",
    "    #--------------------------------------------------------------------------------\n",
    "    outer_cv = StratifiedKFold(n_splits=4, shuffle=True, random_state=no_iter + 1)\n",
    "    inner_cv = StratifiedKFold(n_splits=4, shuffle=True, random_state=no_iter + 1)\n",
    "    #--------------------------------------------------------------------------------\n",
    "    accuracy = []\n",
    "    precision = []\n",
    "    recall = []\n",
    "    AUC = []\n",
    "    AP = []\n",
    "    #--------------------------------------------------------------------------------\n",
    "    for train_index_outer, test_index_outer in outer_cv.split(X, y):\n",
    "        X_train_outer, X_test_outer = X.loc[train_index_outer], X.loc[test_index_outer]\n",
    "        y_train_outer, y_test_outer = y.loc[train_index_outer], y.loc[test_index_outer]\n",
    "        #----------------------------------------------------------------------------\n",
    "        clf = GridSearchCV(alg, param_grid, scoring='precision', cv=inner_cv, n_jobs=20)\n",
    "        clf.fit(X_train_outer, y_train_outer)\n",
    "        pred = clf.predict(X_test_outer)\n",
    "        proba = clf.predict_proba(X_test_outer)\n",
    "        #----------------------------------------------------------------------------\n",
    "        accuracy.append(accuracy_score(y_test_outer, pred))\n",
    "        precision.append(precision_score(y_test_outer, pred))\n",
    "        recall.append(recall_score(y_test_outer, pred))\n",
    "        AUC.append(roc_auc_score(y_test_outer, proba[:,1]))\n",
    "        AP.append(average_precision_score(y_test_outer, proba[:,1]))  \n",
    "    return accuracy, precision, recall, AUC, AP\n",
    "\n",
    "# Create a function to summarize the results of nested CV\n",
    "def result_summary(accuracy, precision, recall, AUC, AP):\n",
    "    df = pd.DataFrame([accuracy, precision, recall, AUC, AP],index=[\"Accuracy\", \"Precision\", \"Recall\", \"AUC\", \"AP\"], columns=[\"1\",\"2\",\"3\",\"4\"])\n",
    "    df[\"Mean\"] = [np.mean(accuracy), np.mean(precision), np.mean(recall), np.mean(AUC), np.mean(AP)]\n",
    "    return df"
   ]
  },
  {
   "cell_type": "code",
   "execution_count": 21,
   "metadata": {},
   "outputs": [
    {
     "data": {
      "text/plain": [
       "'summary_list = []\\nfor i in range(len(alg_list)):\\n    result_list = []\\n    for j in range(10):\\n        accuracy, precision, recall, AUC, AP = nested_cv(j, alg_list[i], alg_param_grid[i])\\n        lr_1st_iter = result_summary(accuracy, precision, recall, AUC, AP)\\n        result_list.append(lr_1st_iter[\\'Mean\\'])\\n    summary = pd.DataFrame(result_list,\\n                           index=[\"Iteration 1\", \"Iteration 2\", \"Iteration 3\", \"Iteration 4\", \"Iteration 5\",\\n                                  \"Iteration 6\", \"Iteration 7\", \"Iteration 8\", \"Iteration 9\", \"Iteration 10\"], \\n                           columns=[\"Accuracy\", \"Precision\", \"Recall\", \"AUC\", \"AP\"])'"
      ]
     },
     "execution_count": 21,
     "metadata": {},
     "output_type": "execute_result"
    }
   ],
   "source": [
    "# Perform nested CV for all the selected algorithms\n",
    "# Please notice that running this requires significant computation power and time\n",
    "'''summary_list = []\n",
    "for i in range(len(alg_list)):\n",
    "    result_list = []\n",
    "    for j in range(10):\n",
    "        accuracy, precision, recall, AUC, AP = nested_cv(j, alg_list[i], alg_param_grid[i])\n",
    "        lr_1st_iter = result_summary(accuracy, precision, recall, AUC, AP)\n",
    "        result_list.append(lr_1st_iter['Mean'])\n",
    "    summary = pd.DataFrame(result_list,\n",
    "                           index=[\"Iteration 1\", \"Iteration 2\", \"Iteration 3\", \"Iteration 4\", \"Iteration 5\",\n",
    "                                  \"Iteration 6\", \"Iteration 7\", \"Iteration 8\", \"Iteration 9\", \"Iteration 10\"], \n",
    "                           columns=[\"Accuracy\", \"Precision\", \"Recall\", \"AUC\", \"AP\"])'''"
   ]
  },
  {
   "cell_type": "markdown",
   "metadata": {},
   "source": [
    "## 5.3. Summary of performance\n",
    "In this section we summarize the performance of each algorithm based on nested CV. Because running the nested CV requires significant computational power and time, the results shown below are not directly generated from the nested CV function defined above, but from files containing the summary of algorithm performance. The files are generated from nested CV of the individual algorithm. "
   ]
  },
  {
   "cell_type": "code",
   "execution_count": 22,
   "metadata": {},
   "outputs": [
    {
     "data": {
      "text/html": [
       "<div>\n",
       "<style scoped>\n",
       "    .dataframe tbody tr th:only-of-type {\n",
       "        vertical-align: middle;\n",
       "    }\n",
       "\n",
       "    .dataframe tbody tr th {\n",
       "        vertical-align: top;\n",
       "    }\n",
       "\n",
       "    .dataframe thead th {\n",
       "        text-align: right;\n",
       "    }\n",
       "</style>\n",
       "<table border=\"1\" class=\"dataframe\">\n",
       "  <thead>\n",
       "    <tr style=\"text-align: right;\">\n",
       "      <th></th>\n",
       "      <th>Accuracy</th>\n",
       "      <th>Precision</th>\n",
       "      <th>Recall</th>\n",
       "      <th>AUC</th>\n",
       "      <th>AP</th>\n",
       "    </tr>\n",
       "  </thead>\n",
       "  <tbody>\n",
       "    <tr>\n",
       "      <th>LR</th>\n",
       "      <td>0.883063</td>\n",
       "      <td>0.753378</td>\n",
       "      <td>0.757149</td>\n",
       "      <td>0.912079</td>\n",
       "      <td>0.773215</td>\n",
       "    </tr>\n",
       "    <tr>\n",
       "      <th>SVM</th>\n",
       "      <td>0.848905</td>\n",
       "      <td>0.796461</td>\n",
       "      <td>0.492605</td>\n",
       "      <td>0.896002</td>\n",
       "      <td>0.747480</td>\n",
       "    </tr>\n",
       "    <tr>\n",
       "      <th>k-NN</th>\n",
       "      <td>0.874709</td>\n",
       "      <td>0.823641</td>\n",
       "      <td>0.601141</td>\n",
       "      <td>0.886260</td>\n",
       "      <td>0.703822</td>\n",
       "    </tr>\n",
       "    <tr>\n",
       "      <th>GBDT</th>\n",
       "      <td>0.923339</td>\n",
       "      <td>0.845809</td>\n",
       "      <td>0.829621</td>\n",
       "      <td>0.970732</td>\n",
       "      <td>0.910562</td>\n",
       "    </tr>\n",
       "    <tr>\n",
       "      <th>AB</th>\n",
       "      <td>0.896535</td>\n",
       "      <td>0.806679</td>\n",
       "      <td>0.743085</td>\n",
       "      <td>0.941190</td>\n",
       "      <td>0.813744</td>\n",
       "    </tr>\n",
       "    <tr>\n",
       "      <th>RF</th>\n",
       "      <td>0.921823</td>\n",
       "      <td>0.852128</td>\n",
       "      <td>0.813372</td>\n",
       "      <td>0.963323</td>\n",
       "      <td>0.885633</td>\n",
       "    </tr>\n",
       "  </tbody>\n",
       "</table>\n",
       "</div>"
      ],
      "text/plain": [
       "      Accuracy  Precision    Recall       AUC        AP\n",
       "LR    0.883063   0.753378  0.757149  0.912079  0.773215\n",
       "SVM   0.848905   0.796461  0.492605  0.896002  0.747480\n",
       "k-NN  0.874709   0.823641  0.601141  0.886260  0.703822\n",
       "GBDT  0.923339   0.845809  0.829621  0.970732  0.910562\n",
       "AB    0.896535   0.806679  0.743085  0.941190  0.813744\n",
       "RF    0.921823   0.852128  0.813372  0.963323  0.885633"
      ]
     },
     "execution_count": 22,
     "metadata": {},
     "output_type": "execute_result"
    }
   ],
   "source": [
    "# Import the performance summary of LR\n",
    "lr_summary = pd.read_csv('Results/lr_summary.csv', index_col=0)\n",
    "\n",
    "# Import the performance summary of SVM\n",
    "svm_summary = pd.read_csv('Results/svm_summary.csv', index_col=0)\n",
    "\n",
    "# Import the performance summary of k-NN\n",
    "knn_summary = pd.read_csv('Results/knn_summary.csv', index_col=0)\n",
    "\n",
    "# Import the performance summary of GBDT\n",
    "gb_summary = pd.read_csv('Results/gbdt_summary.csv', index_col=0)\n",
    "\n",
    "# Import the performance summary of AB\n",
    "ab_summary = pd.read_csv('Results/ab_summary.csv', index_col=0)\n",
    "\n",
    "# Import the performance summary of RF\n",
    "rf_summary = pd.read_csv('Results/rf_summary.csv', index_col=0)\n",
    "\n",
    "# Import the performance summary of all algorithms\n",
    "all_summary = pd.read_csv('Results/all_summary.csv', index_col=0)\n",
    "\n",
    "all_summary"
   ]
  },
  {
   "cell_type": "markdown",
   "metadata": {},
   "source": [
    "Besides assessing the average value of evaluation metrics, it is im- portant to observe the stability of classifier performance on different cuts of the dataset. A box-and-whisker plot is used to examine the statistical dispersion of evaluation metrics’ value for all classifiers on all folds and iterations."
   ]
  },
  {
   "cell_type": "code",
   "execution_count": 23,
   "metadata": {},
   "outputs": [
    {
     "data": {
      "image/png": "[encoded data removed]",
      "text/plain": [
       "<Figure size 1152x1008 with 5 Axes>"
      ]
     },
     "metadata": {},
     "output_type": "display_data"
    }
   ],
   "source": [
    "# Create box and whisker plots\n",
    "\n",
    "accuracy_summary = pd.DataFrame([lr_summary[\"Accuracy\"]*100,svm_summary[\"Accuracy\"]*100,knn_summary[\"Accuracy\"]*100,\n",
    "                                 gb_summary[\"Accuracy\"]*100,ab_summary[\"Accuracy\"]*100,rf_summary[\"Accuracy\"]*100],\n",
    "                                 index = [\"LR\",\"SVM\",\"k-NN\",\"GBDT\",\"AB\",\"RF\"]).transpose()\n",
    "\n",
    "precision_summary = pd.DataFrame([lr_summary[\"Precision\"]*100,svm_summary[\"Precision\"]*100,knn_summary[\"Precision\"]*100, \n",
    "                                  gb_summary[\"Precision\"]*100,ab_summary[\"Precision\"]*100,rf_summary[\"Precision\"]*100],\n",
    "                                  index = [\"LR\",\"SVM\",\"k-NN\",\"GBDT\",\"AB\",\"RF\"]).transpose()\n",
    "\n",
    "recall_summary = pd.DataFrame([lr_summary[\"Recall\"]*100,svm_summary[\"Recall\"]*100,knn_summary[\"Recall\"]*100,\n",
    "                               gb_summary[\"Recall\"]*100,ab_summary[\"Recall\"]*100,rf_summary[\"Recall\"]*100],\n",
    "                               index = [\"LR\",\"SVM\",\"k-NN\",\"GBDT\",\"AB\",\"RF\"]).transpose()\n",
    "\n",
    "AUC_summary = pd.DataFrame([lr_summary[\"AUC\"]*100,svm_summary[\"AUC\"]*100,knn_summary[\"AUC\"]*100,\n",
    "                            gb_summary[\"AUC\"]*100,ab_summary[\"AUC\"]*100,rf_summary[\"AUC\"]*100],\n",
    "                            index = [\"LR\",\"SVM\",\"k-NN\",\"GBDT\",\"AB\",\"RF\"]).transpose()\n",
    "\n",
    "AP_summary = pd.DataFrame([lr_summary[\"AP\"]*100,svm_summary[\"AP\"]*100,knn_summary[\"AP\"]*100,\n",
    "                           gb_summary[\"AP\"]*100,ab_summary[\"AP\"]*100,rf_summary[\"AP\"]*100],\n",
    "                           index = [\"LR\",\"SVM\",\"k-NN\",\"GBDT\",\"AB\",\"RF\"]).transpose()\n",
    "\n",
    "accuracy_summary_reindex = accuracy_summary.reset_index()\n",
    "accuracy_summary_melt = pd.melt(accuracy_summary_reindex,\n",
    "                                id_vars='index',\n",
    "                                value_vars = [\"LR\",\"SVM\",\"k-NN\",\"GBDT\",\"AB\",\"RF\"],\n",
    "                                var_name = 'Algorithm',\n",
    "                                value_name = 'Accuracy')\n",
    "\n",
    "sns.set_style(\"whitegrid\")\n",
    "plt.figure(figsize=(16,14))\n",
    "\n",
    "ax1 = plt.subplot(321)\n",
    "accuracy_summary.boxplot()\n",
    "plt.ylabel(\"Accuracy (%)\")\n",
    "for patch in ax1.artists:\n",
    "    r, g, b, a = patch.get_facecolor()\n",
    "    patch.set_facecolor((r, g, b, .3))\n",
    "\n",
    "ax2 = plt.subplot(322)\n",
    "precision_summary.boxplot()\n",
    "plt.ylabel(\"Precision (%)\")\n",
    "for patch in ax2.artists:\n",
    "    r, g, b, a = patch.get_facecolor()\n",
    "    patch.set_facecolor((r, g, b, .3))\n",
    "\n",
    "ax3 = plt.subplot(323)\n",
    "recall_summary.boxplot()\n",
    "plt.ylabel(\"Recall (%)\")\n",
    "for patch in ax3.artists:\n",
    "    r, g, b, a = patch.get_facecolor()\n",
    "    patch.set_facecolor((r, g, b, .3))\n",
    "\n",
    "ax4 = plt.subplot(324)\n",
    "AUC_summary.boxplot()\n",
    "plt.ylabel(\"AUC (%)\")\n",
    "for patch in ax4.artists:\n",
    "    r, g, b, a = patch.get_facecolor()\n",
    "    patch.set_facecolor((r, g, b, .3))\n",
    "\n",
    "ax5 = plt.subplot(325)\n",
    "AP_summary.boxplot()\n",
    "plt.ylabel(\"AP (%)\")\n",
    "for patch in ax5.artists:\n",
    "    r, g, b, a = patch.get_facecolor()\n",
    "    patch.set_facecolor((r, g, b, .3))\n",
    "\n",
    "plt.savefig(\"boxplot.png\", dpi=500)\n",
    "plt.show()"
   ]
  },
  {
   "cell_type": "markdown",
   "metadata": {},
   "source": [
    "# 6.0. Results and analysis"
   ]
  },
  {
   "cell_type": "markdown",
   "metadata": {
    "collapsed": true
   },
   "source": [
    "In general, the ensemble techniques (i.e., GBDT, AB, and RF) consistently outperform the non-ensemble techniques (i.e., LR, SVM, and k-NN) in all evaluation metrics. This is not surprising, given the inherent characteristic of ensemble learning that improves the generalizability and robustness of the classifier. The superiority of ensemble techniques may also be due to the characteristic of the input features: five out of ten input features have a discrete/categorical nature. All ensemble classifiers examined in this paper are constructed based on information-based learning (i.e., decision trees), which is better in terms of handling discrete/categorical features. Among the ensemble techniques, AB is the least preferred because it performs the worst in all metric categories and has the highest performance dispersion. It is difficult to select the preferred classifier between GBDT and RF, due to the marginal performance disparity between them, the lack of robustness in their performance difference, and their analogous performance dispersion. GBDT is slightly preferred because it outperforms RF in all evaluation metrics, except precision. Moreover, GBDT is faster in both training and testing running time than RF.\n",
    "\n",
    "Despite the excellent prediction performance of ensemble methods, they have three inherent drawbacks. First, ensemble classifiers have higher storage requirement than single classifiers. The storage size increases as the number of classifiers in a single ensemble expands. Second, ensemble classifiers are computationally expensive, due to the need to process multiple classifiers. Consequently, ensemble classifiers tend to have slow training time efficiency. Third, the involvement of multiple classifiers reduces the comprehensibility of the ensemble classifiers. These disadvantages are more prominent as the size of the dataset becomes larger.\n",
    "\n",
    "It should be noticed that there is no single classifier that works best on all datasets. Despite using the same dataset, if the data pre-processing and setting are different (e.g., different selection of input features and different features’ transformation), the performance of each classifier may change. In the case of RBI, the type of assessment used (e.g., qualitative, semi-quantitative, or quantitative), the type of system being analyzed (e.g., offshore/onshore, downstream/upstream), and the type of methodology used (e.g., API, DNV, etc.) may influence the selection, as well as the performance, of the classifiers."
   ]
  },
  {
   "cell_type": "markdown",
   "metadata": {},
   "source": [
    "# References\n",
    "This notebook describes the implementation of machine approach in the risk-based inspection (RBI) screening assessment, as described in the paper ['*Machine learning approach for risk-based inspection screening assessment*'](https://www.sciencedirect.com/science/article/pii/S0951832018301662)."
   ]
  }
 ],
 "metadata": {
  "kernelspec": {
   "display_name": "Python 3",
   "language": "python",
   "name": "python3"
  },
  "language_info": {
   "codemirror_mode": {
    "name": "ipython",
    "version": 3
   },
   "file_extension": ".py",
   "mimetype": "text/x-python",
   "name": "python",
   "nbconvert_exporter": "python",
   "pygments_lexer": "ipython3",
   "version": "3.6.3"
  }
 },
 "nbformat": 4,
 "nbformat_minor": 2
}
